{
 "cells": [
  {
   "cell_type": "markdown",
   "metadata": {},
   "source": [
    "# Lab 5: Model Selection for Logistic Regression"
   ]
  },
  {
   "cell_type": "code",
   "execution_count": 16,
   "metadata": {},
   "outputs": [],
   "source": [
    "import pandas as pd\n",
    "import numpy as np\n",
    "import os \n",
    "import matplotlib.pyplot as plt\n",
    "import seaborn as sns\n",
    "\n",
    "from sklearn.model_selection import train_test_split, GridSearchCV\n",
    "from sklearn.linear_model import LogisticRegression\n",
    "from sklearn.metrics import accuracy_score, confusion_matrix, precision_recall_curve\n"
   ]
  },
  {
   "cell_type": "markdown",
   "metadata": {},
   "source": [
    "In this lab assignment, you will:\n",
    "\n",
    "1. Load the Airbnb \"listings\" data set.\n",
    "2. Train and test a logistic regression (LR) model using the scikit-learn default hyperparameter values.\n",
    "2. Perform a grid search to identify the LR hyperparameter value that results in the best cross-validation score.\n",
    "3. Fit the optimal model to the training data and make predictions on the test data.\n",
    "4. Create a confusion matrix for both models.\n",
    "5. Plot a precision-recall curve for both models.\n",
    "6. Plot the ROC and compute the AUC for both models.\n",
    "7. Perform feature selection.\n",
    "\n",
    "**<font color='red'>Note: Some of the code cells in this notebook may take a while to run.</font>**"
   ]
  },
  {
   "cell_type": "markdown",
   "metadata": {},
   "source": [
    "## Part 1: Load the Data Set"
   ]
  },
  {
   "cell_type": "markdown",
   "metadata": {},
   "source": [
    "We will work with a preprocessed version of the Airbnb NYC \"listings\" data set. \n",
    "\n",
    "<b>Task</b>: In the code cell below, use the same method you have been using to load the data using `pd.read_csv()` and save it to DataFrame `df`.\n",
    "\n",
    "You will be working with the file named \"airbnb_readytofit.csv.gz\" that is located in a folder named \"data\"."
   ]
  },
  {
   "cell_type": "code",
   "execution_count": 17,
   "metadata": {},
   "outputs": [],
   "source": [
    "# YOUR CODE HERE\n",
    "filename = os.path.join(os.getcwd(), \"data\", \"airbnb_readytofit.csv.gz\")\n",
    "df = pd.read_csv(filename, header=0)"
   ]
  },
  {
   "cell_type": "markdown",
   "metadata": {},
   "source": [
    "## Part 2: Create Training and Test Data Sets"
   ]
  },
  {
   "cell_type": "markdown",
   "metadata": {},
   "source": [
    "### Create Labeled Examples \n",
    "\n",
    "<b>Task</b>: Create labeled examples from DataFrame `df`. \n",
    "In the code cell below, carry out the following steps:\n",
    "\n",
    "* Get the `host_is_superhost` column from DataFrame `df` and assign it to the variable `y`. This will be our label.\n",
    "* Get all other columns from DataFrame `df` and assign them to the variable `X`. These will be our features. "
   ]
  },
  {
   "cell_type": "markdown",
   "metadata": {},
   "source": [
    "First, we will store the label column as a separate object, called `y`, and consequently remove that column from the `X` feature set:"
   ]
  },
  {
   "cell_type": "code",
   "execution_count": 18,
   "metadata": {},
   "outputs": [
    {
     "data": {
      "text/plain": [
       "(28022, 50)"
      ]
     },
     "execution_count": 18,
     "metadata": {},
     "output_type": "execute_result"
    }
   ],
   "source": [
    "df.shape"
   ]
  },
  {
   "cell_type": "code",
   "execution_count": 19,
   "metadata": {},
   "outputs": [
    {
     "name": "stdout",
     "output_type": "stream",
     "text": [
      "(28022,)\n"
     ]
    },
    {
     "data": {
      "text/html": [
       "<div>\n",
       "<style scoped>\n",
       "    .dataframe tbody tr th:only-of-type {\n",
       "        vertical-align: middle;\n",
       "    }\n",
       "\n",
       "    .dataframe tbody tr th {\n",
       "        vertical-align: top;\n",
       "    }\n",
       "\n",
       "    .dataframe thead th {\n",
       "        text-align: right;\n",
       "    }\n",
       "</style>\n",
       "<table border=\"1\" class=\"dataframe\">\n",
       "  <thead>\n",
       "    <tr style=\"text-align: right;\">\n",
       "      <th></th>\n",
       "      <th>host_has_profile_pic</th>\n",
       "      <th>host_identity_verified</th>\n",
       "      <th>has_availability</th>\n",
       "      <th>instant_bookable</th>\n",
       "      <th>host_response_rate</th>\n",
       "      <th>host_acceptance_rate</th>\n",
       "      <th>host_listings_count</th>\n",
       "      <th>host_total_listings_count</th>\n",
       "      <th>accommodates</th>\n",
       "      <th>bathrooms</th>\n",
       "      <th>...</th>\n",
       "      <th>n_host_verifications</th>\n",
       "      <th>neighbourhood_group_cleansed_Bronx</th>\n",
       "      <th>neighbourhood_group_cleansed_Brooklyn</th>\n",
       "      <th>neighbourhood_group_cleansed_Manhattan</th>\n",
       "      <th>neighbourhood_group_cleansed_Queens</th>\n",
       "      <th>neighbourhood_group_cleansed_Staten Island</th>\n",
       "      <th>room_type_Entire home/apt</th>\n",
       "      <th>room_type_Hotel room</th>\n",
       "      <th>room_type_Private room</th>\n",
       "      <th>room_type_Shared room</th>\n",
       "    </tr>\n",
       "  </thead>\n",
       "  <tbody>\n",
       "    <tr>\n",
       "      <th>0</th>\n",
       "      <td>True</td>\n",
       "      <td>True</td>\n",
       "      <td>True</td>\n",
       "      <td>False</td>\n",
       "      <td>-0.578829</td>\n",
       "      <td>-2.845589</td>\n",
       "      <td>-0.054298</td>\n",
       "      <td>-0.054298</td>\n",
       "      <td>-1.007673</td>\n",
       "      <td>-0.337606</td>\n",
       "      <td>...</td>\n",
       "      <td>1.888373</td>\n",
       "      <td>0.0</td>\n",
       "      <td>0.0</td>\n",
       "      <td>1.0</td>\n",
       "      <td>0.0</td>\n",
       "      <td>0.0</td>\n",
       "      <td>1.0</td>\n",
       "      <td>0.0</td>\n",
       "      <td>0.0</td>\n",
       "      <td>0.0</td>\n",
       "    </tr>\n",
       "    <tr>\n",
       "      <th>1</th>\n",
       "      <td>True</td>\n",
       "      <td>True</td>\n",
       "      <td>True</td>\n",
       "      <td>False</td>\n",
       "      <td>-4.685756</td>\n",
       "      <td>-0.430024</td>\n",
       "      <td>-0.112284</td>\n",
       "      <td>-0.112284</td>\n",
       "      <td>0.067470</td>\n",
       "      <td>-0.337606</td>\n",
       "      <td>...</td>\n",
       "      <td>0.409419</td>\n",
       "      <td>0.0</td>\n",
       "      <td>1.0</td>\n",
       "      <td>0.0</td>\n",
       "      <td>0.0</td>\n",
       "      <td>0.0</td>\n",
       "      <td>1.0</td>\n",
       "      <td>0.0</td>\n",
       "      <td>0.0</td>\n",
       "      <td>0.0</td>\n",
       "    </tr>\n",
       "    <tr>\n",
       "      <th>2</th>\n",
       "      <td>True</td>\n",
       "      <td>True</td>\n",
       "      <td>True</td>\n",
       "      <td>False</td>\n",
       "      <td>0.578052</td>\n",
       "      <td>-2.473964</td>\n",
       "      <td>-0.112284</td>\n",
       "      <td>-0.112284</td>\n",
       "      <td>0.605041</td>\n",
       "      <td>0.849692</td>\n",
       "      <td>...</td>\n",
       "      <td>-1.069535</td>\n",
       "      <td>0.0</td>\n",
       "      <td>1.0</td>\n",
       "      <td>0.0</td>\n",
       "      <td>0.0</td>\n",
       "      <td>0.0</td>\n",
       "      <td>1.0</td>\n",
       "      <td>0.0</td>\n",
       "      <td>0.0</td>\n",
       "      <td>0.0</td>\n",
       "    </tr>\n",
       "    <tr>\n",
       "      <th>3</th>\n",
       "      <td>True</td>\n",
       "      <td>False</td>\n",
       "      <td>True</td>\n",
       "      <td>False</td>\n",
       "      <td>0.578052</td>\n",
       "      <td>1.010024</td>\n",
       "      <td>-0.112284</td>\n",
       "      <td>-0.112284</td>\n",
       "      <td>-0.470102</td>\n",
       "      <td>-0.337606</td>\n",
       "      <td>...</td>\n",
       "      <td>-0.576550</td>\n",
       "      <td>0.0</td>\n",
       "      <td>0.0</td>\n",
       "      <td>1.0</td>\n",
       "      <td>0.0</td>\n",
       "      <td>0.0</td>\n",
       "      <td>0.0</td>\n",
       "      <td>0.0</td>\n",
       "      <td>1.0</td>\n",
       "      <td>0.0</td>\n",
       "    </tr>\n",
       "    <tr>\n",
       "      <th>4</th>\n",
       "      <td>True</td>\n",
       "      <td>True</td>\n",
       "      <td>True</td>\n",
       "      <td>False</td>\n",
       "      <td>-0.054002</td>\n",
       "      <td>-0.066308</td>\n",
       "      <td>-0.112284</td>\n",
       "      <td>-0.112284</td>\n",
       "      <td>-1.007673</td>\n",
       "      <td>-0.337606</td>\n",
       "      <td>...</td>\n",
       "      <td>0.902404</td>\n",
       "      <td>0.0</td>\n",
       "      <td>0.0</td>\n",
       "      <td>1.0</td>\n",
       "      <td>0.0</td>\n",
       "      <td>0.0</td>\n",
       "      <td>0.0</td>\n",
       "      <td>0.0</td>\n",
       "      <td>1.0</td>\n",
       "      <td>0.0</td>\n",
       "    </tr>\n",
       "  </tbody>\n",
       "</table>\n",
       "<p>5 rows × 49 columns</p>\n",
       "</div>"
      ],
      "text/plain": [
       "   host_has_profile_pic  host_identity_verified  has_availability  \\\n",
       "0                  True                    True              True   \n",
       "1                  True                    True              True   \n",
       "2                  True                    True              True   \n",
       "3                  True                   False              True   \n",
       "4                  True                    True              True   \n",
       "\n",
       "   instant_bookable  host_response_rate  host_acceptance_rate  \\\n",
       "0             False           -0.578829             -2.845589   \n",
       "1             False           -4.685756             -0.430024   \n",
       "2             False            0.578052             -2.473964   \n",
       "3             False            0.578052              1.010024   \n",
       "4             False           -0.054002             -0.066308   \n",
       "\n",
       "   host_listings_count  host_total_listings_count  accommodates  bathrooms  \\\n",
       "0            -0.054298                  -0.054298     -1.007673  -0.337606   \n",
       "1            -0.112284                  -0.112284      0.067470  -0.337606   \n",
       "2            -0.112284                  -0.112284      0.605041   0.849692   \n",
       "3            -0.112284                  -0.112284     -0.470102  -0.337606   \n",
       "4            -0.112284                  -0.112284     -1.007673  -0.337606   \n",
       "\n",
       "   ...  n_host_verifications  neighbourhood_group_cleansed_Bronx  \\\n",
       "0  ...              1.888373                                 0.0   \n",
       "1  ...              0.409419                                 0.0   \n",
       "2  ...             -1.069535                                 0.0   \n",
       "3  ...             -0.576550                                 0.0   \n",
       "4  ...              0.902404                                 0.0   \n",
       "\n",
       "   neighbourhood_group_cleansed_Brooklyn  \\\n",
       "0                                    0.0   \n",
       "1                                    1.0   \n",
       "2                                    1.0   \n",
       "3                                    0.0   \n",
       "4                                    0.0   \n",
       "\n",
       "   neighbourhood_group_cleansed_Manhattan  \\\n",
       "0                                     1.0   \n",
       "1                                     0.0   \n",
       "2                                     0.0   \n",
       "3                                     1.0   \n",
       "4                                     1.0   \n",
       "\n",
       "   neighbourhood_group_cleansed_Queens  \\\n",
       "0                                  0.0   \n",
       "1                                  0.0   \n",
       "2                                  0.0   \n",
       "3                                  0.0   \n",
       "4                                  0.0   \n",
       "\n",
       "   neighbourhood_group_cleansed_Staten Island  room_type_Entire home/apt  \\\n",
       "0                                         0.0                        1.0   \n",
       "1                                         0.0                        1.0   \n",
       "2                                         0.0                        1.0   \n",
       "3                                         0.0                        0.0   \n",
       "4                                         0.0                        0.0   \n",
       "\n",
       "   room_type_Hotel room  room_type_Private room  room_type_Shared room  \n",
       "0                   0.0                     0.0                    0.0  \n",
       "1                   0.0                     0.0                    0.0  \n",
       "2                   0.0                     0.0                    0.0  \n",
       "3                   0.0                     1.0                    0.0  \n",
       "4                   0.0                     1.0                    0.0  \n",
       "\n",
       "[5 rows x 49 columns]"
      ]
     },
     "execution_count": 19,
     "metadata": {},
     "output_type": "execute_result"
    }
   ],
   "source": [
    "# YOUR CODE HERE\n",
    "y = df['host_is_superhost']\n",
    "X = df.drop(columns='host_is_superhost', axis=1)\n",
    "print(y.shape)\n",
    "X.head()"
   ]
  },
  {
   "cell_type": "markdown",
   "metadata": {},
   "source": [
    "### Split Labeled Examples Into Training and Test Sets\n",
    "\n",
    "<b>Task</b>: In the code cell below, create training and test sets out of the labeled examples. \n",
    "\n",
    "1. Use scikit-learn's `train_test_split()` function to create the data sets.\n",
    "\n",
    "2. Specify:\n",
    "    * A test set that is 10 percent of the size of the data set.\n",
    "    * A seed value of '1234'. \n",
    "    \n"
   ]
  },
  {
   "cell_type": "code",
   "execution_count": 20,
   "metadata": {},
   "outputs": [],
   "source": [
    "# YOUR CODE HERE\n",
    "X_train, X_test, y_train, y_test = train_test_split(X, y, test_size=0.10, random_state=1234)"
   ]
  },
  {
   "cell_type": "code",
   "execution_count": 21,
   "metadata": {
    "scrolled": true
   },
   "outputs": [
    {
     "data": {
      "text/html": [
       "<div>\n",
       "<style scoped>\n",
       "    .dataframe tbody tr th:only-of-type {\n",
       "        vertical-align: middle;\n",
       "    }\n",
       "\n",
       "    .dataframe tbody tr th {\n",
       "        vertical-align: top;\n",
       "    }\n",
       "\n",
       "    .dataframe thead th {\n",
       "        text-align: right;\n",
       "    }\n",
       "</style>\n",
       "<table border=\"1\" class=\"dataframe\">\n",
       "  <thead>\n",
       "    <tr style=\"text-align: right;\">\n",
       "      <th></th>\n",
       "      <th>host_has_profile_pic</th>\n",
       "      <th>host_identity_verified</th>\n",
       "      <th>has_availability</th>\n",
       "      <th>instant_bookable</th>\n",
       "      <th>host_response_rate</th>\n",
       "      <th>host_acceptance_rate</th>\n",
       "      <th>host_listings_count</th>\n",
       "      <th>host_total_listings_count</th>\n",
       "      <th>accommodates</th>\n",
       "      <th>bathrooms</th>\n",
       "      <th>...</th>\n",
       "      <th>n_host_verifications</th>\n",
       "      <th>neighbourhood_group_cleansed_Bronx</th>\n",
       "      <th>neighbourhood_group_cleansed_Brooklyn</th>\n",
       "      <th>neighbourhood_group_cleansed_Manhattan</th>\n",
       "      <th>neighbourhood_group_cleansed_Queens</th>\n",
       "      <th>neighbourhood_group_cleansed_Staten Island</th>\n",
       "      <th>room_type_Entire home/apt</th>\n",
       "      <th>room_type_Hotel room</th>\n",
       "      <th>room_type_Private room</th>\n",
       "      <th>room_type_Shared room</th>\n",
       "    </tr>\n",
       "  </thead>\n",
       "  <tbody>\n",
       "    <tr>\n",
       "      <th>326</th>\n",
       "      <td>True</td>\n",
       "      <td>True</td>\n",
       "      <td>True</td>\n",
       "      <td>False</td>\n",
       "      <td>-0.868049</td>\n",
       "      <td>-2.706229</td>\n",
       "      <td>-0.120567</td>\n",
       "      <td>-0.120567</td>\n",
       "      <td>-0.470102</td>\n",
       "      <td>-0.337606</td>\n",
       "      <td>...</td>\n",
       "      <td>-0.083566</td>\n",
       "      <td>0.0</td>\n",
       "      <td>0.0</td>\n",
       "      <td>1.0</td>\n",
       "      <td>0.0</td>\n",
       "      <td>0.0</td>\n",
       "      <td>1.0</td>\n",
       "      <td>0.0</td>\n",
       "      <td>0.0</td>\n",
       "      <td>0.0</td>\n",
       "    </tr>\n",
       "    <tr>\n",
       "      <th>26890</th>\n",
       "      <td>True</td>\n",
       "      <td>False</td>\n",
       "      <td>True</td>\n",
       "      <td>False</td>\n",
       "      <td>0.578052</td>\n",
       "      <td>1.010024</td>\n",
       "      <td>-0.120567</td>\n",
       "      <td>-0.120567</td>\n",
       "      <td>0.605041</td>\n",
       "      <td>-0.337606</td>\n",
       "      <td>...</td>\n",
       "      <td>-1.562519</td>\n",
       "      <td>0.0</td>\n",
       "      <td>0.0</td>\n",
       "      <td>0.0</td>\n",
       "      <td>1.0</td>\n",
       "      <td>0.0</td>\n",
       "      <td>1.0</td>\n",
       "      <td>0.0</td>\n",
       "      <td>0.0</td>\n",
       "      <td>0.0</td>\n",
       "    </tr>\n",
       "    <tr>\n",
       "      <th>16767</th>\n",
       "      <td>True</td>\n",
       "      <td>True</td>\n",
       "      <td>True</td>\n",
       "      <td>False</td>\n",
       "      <td>0.578052</td>\n",
       "      <td>0.638399</td>\n",
       "      <td>-0.112284</td>\n",
       "      <td>-0.112284</td>\n",
       "      <td>-0.470102</td>\n",
       "      <td>-0.337606</td>\n",
       "      <td>...</td>\n",
       "      <td>1.395388</td>\n",
       "      <td>0.0</td>\n",
       "      <td>1.0</td>\n",
       "      <td>0.0</td>\n",
       "      <td>0.0</td>\n",
       "      <td>0.0</td>\n",
       "      <td>1.0</td>\n",
       "      <td>0.0</td>\n",
       "      <td>0.0</td>\n",
       "      <td>0.0</td>\n",
       "    </tr>\n",
       "    <tr>\n",
       "      <th>27743</th>\n",
       "      <td>True</td>\n",
       "      <td>True</td>\n",
       "      <td>True</td>\n",
       "      <td>True</td>\n",
       "      <td>0.288832</td>\n",
       "      <td>1.010024</td>\n",
       "      <td>-0.120567</td>\n",
       "      <td>-0.120567</td>\n",
       "      <td>2.755328</td>\n",
       "      <td>2.036990</td>\n",
       "      <td>...</td>\n",
       "      <td>-1.562519</td>\n",
       "      <td>0.0</td>\n",
       "      <td>0.0</td>\n",
       "      <td>1.0</td>\n",
       "      <td>0.0</td>\n",
       "      <td>0.0</td>\n",
       "      <td>1.0</td>\n",
       "      <td>0.0</td>\n",
       "      <td>0.0</td>\n",
       "      <td>0.0</td>\n",
       "    </tr>\n",
       "    <tr>\n",
       "      <th>9783</th>\n",
       "      <td>True</td>\n",
       "      <td>False</td>\n",
       "      <td>True</td>\n",
       "      <td>False</td>\n",
       "      <td>0.578052</td>\n",
       "      <td>1.010024</td>\n",
       "      <td>-0.104000</td>\n",
       "      <td>-0.104000</td>\n",
       "      <td>0.605041</td>\n",
       "      <td>-0.337606</td>\n",
       "      <td>...</td>\n",
       "      <td>-1.069535</td>\n",
       "      <td>0.0</td>\n",
       "      <td>0.0</td>\n",
       "      <td>1.0</td>\n",
       "      <td>0.0</td>\n",
       "      <td>0.0</td>\n",
       "      <td>1.0</td>\n",
       "      <td>0.0</td>\n",
       "      <td>0.0</td>\n",
       "      <td>0.0</td>\n",
       "    </tr>\n",
       "  </tbody>\n",
       "</table>\n",
       "<p>5 rows × 49 columns</p>\n",
       "</div>"
      ],
      "text/plain": [
       "       host_has_profile_pic  host_identity_verified  has_availability  \\\n",
       "326                    True                    True              True   \n",
       "26890                  True                   False              True   \n",
       "16767                  True                    True              True   \n",
       "27743                  True                    True              True   \n",
       "9783                   True                   False              True   \n",
       "\n",
       "       instant_bookable  host_response_rate  host_acceptance_rate  \\\n",
       "326               False           -0.868049             -2.706229   \n",
       "26890             False            0.578052              1.010024   \n",
       "16767             False            0.578052              0.638399   \n",
       "27743              True            0.288832              1.010024   \n",
       "9783              False            0.578052              1.010024   \n",
       "\n",
       "       host_listings_count  host_total_listings_count  accommodates  \\\n",
       "326              -0.120567                  -0.120567     -0.470102   \n",
       "26890            -0.120567                  -0.120567      0.605041   \n",
       "16767            -0.112284                  -0.112284     -0.470102   \n",
       "27743            -0.120567                  -0.120567      2.755328   \n",
       "9783             -0.104000                  -0.104000      0.605041   \n",
       "\n",
       "       bathrooms  ...  n_host_verifications  \\\n",
       "326    -0.337606  ...             -0.083566   \n",
       "26890  -0.337606  ...             -1.562519   \n",
       "16767  -0.337606  ...              1.395388   \n",
       "27743   2.036990  ...             -1.562519   \n",
       "9783   -0.337606  ...             -1.069535   \n",
       "\n",
       "       neighbourhood_group_cleansed_Bronx  \\\n",
       "326                                   0.0   \n",
       "26890                                 0.0   \n",
       "16767                                 0.0   \n",
       "27743                                 0.0   \n",
       "9783                                  0.0   \n",
       "\n",
       "       neighbourhood_group_cleansed_Brooklyn  \\\n",
       "326                                      0.0   \n",
       "26890                                    0.0   \n",
       "16767                                    1.0   \n",
       "27743                                    0.0   \n",
       "9783                                     0.0   \n",
       "\n",
       "       neighbourhood_group_cleansed_Manhattan  \\\n",
       "326                                       1.0   \n",
       "26890                                     0.0   \n",
       "16767                                     0.0   \n",
       "27743                                     1.0   \n",
       "9783                                      1.0   \n",
       "\n",
       "       neighbourhood_group_cleansed_Queens  \\\n",
       "326                                    0.0   \n",
       "26890                                  1.0   \n",
       "16767                                  0.0   \n",
       "27743                                  0.0   \n",
       "9783                                   0.0   \n",
       "\n",
       "       neighbourhood_group_cleansed_Staten Island  room_type_Entire home/apt  \\\n",
       "326                                           0.0                        1.0   \n",
       "26890                                         0.0                        1.0   \n",
       "16767                                         0.0                        1.0   \n",
       "27743                                         0.0                        1.0   \n",
       "9783                                          0.0                        1.0   \n",
       "\n",
       "       room_type_Hotel room  room_type_Private room  room_type_Shared room  \n",
       "326                     0.0                     0.0                    0.0  \n",
       "26890                   0.0                     0.0                    0.0  \n",
       "16767                   0.0                     0.0                    0.0  \n",
       "27743                   0.0                     0.0                    0.0  \n",
       "9783                    0.0                     0.0                    0.0  \n",
       "\n",
       "[5 rows x 49 columns]"
      ]
     },
     "execution_count": 21,
     "metadata": {},
     "output_type": "execute_result"
    }
   ],
   "source": [
    "X_train.head()"
   ]
  },
  {
   "cell_type": "markdown",
   "metadata": {},
   "source": [
    "## Part 3: Fit and Evaluate a Logistic Regression Model With Default Hyperparameter Values"
   ]
  },
  {
   "cell_type": "markdown",
   "metadata": {},
   "source": [
    "<b>Task</b>: In the code cell below:\n",
    "\n",
    "1. Using the scikit-learn `LogisticRegression` class, create a logistic regression model object with the following arguments: `max_iter=1000`. You will use the scikit-learn default value for hyperparameter $C$, which is 1.0. Assign the model object to the variable `model_default`.\n",
    "\n",
    "2. Fit the model to the training data."
   ]
  },
  {
   "cell_type": "code",
   "execution_count": 22,
   "metadata": {},
   "outputs": [
    {
     "data": {
      "text/plain": [
       "LogisticRegression(C=1.0, class_weight=None, dual=False, fit_intercept=True,\n",
       "                   intercept_scaling=1, l1_ratio=None, max_iter=1000,\n",
       "                   multi_class='auto', n_jobs=None, penalty='l2',\n",
       "                   random_state=None, solver='lbfgs', tol=0.0001, verbose=0,\n",
       "                   warm_start=False)"
      ]
     },
     "execution_count": 22,
     "metadata": {},
     "output_type": "execute_result"
    }
   ],
   "source": [
    "# 1. Create the  Scikit-learn LogisticRegression model object below and assign to variable 'model_default'\n",
    "# YOUR CODE HERE\n",
    "model_default = LogisticRegression(max_iter=1000)\n",
    "\n",
    "# 2. Fit the model to the training data below\n",
    "# YOUR CODE HERE\n",
    "model_default.fit(X_train, y_train)"
   ]
  },
  {
   "cell_type": "markdown",
   "metadata": {},
   "source": [
    "<b>Task:</b> Test your model on the test set (`X_test`). \n",
    "\n",
    "1. Use the ``predict_proba()`` method  to use the fitted model to predict class probabilities for the test set. Note that the `predict_proba()` method returns two columns, one column per class label. The first column contains the probability that an unlabeled example belongs to class `False` (`host_is_superhost` is \"False\") and the second column contains the probability that an unlabeled example belongs to class `True` (`host_is_superhost` is \"True\"). Save the values of the *second* column to a list called ``proba_predictions_default``.\n",
    "\n",
    "2. Use the ```predict()``` method to use the fitted model `model_default` to predict the class labels for the test set. Store the outcome in the variable ```class_label_predictions_default```. Note that the `predict()` method returns the class label (True or False) per unlabeled example."
   ]
  },
  {
   "cell_type": "code",
   "execution_count": 23,
   "metadata": {},
   "outputs": [],
   "source": [
    "# 1. Make predictions on the test data using the predict_proba() method\n",
    "# YOUR CODE HERE\n",
    "proba_predictions_default = model_default.predict_proba(X_test)[:,1]\n",
    "# 2. Make predictions on the test data using the predict() method\n",
    "# YOUR CODE HERE\n",
    "class_label_predictions_default = model_default.predict(X_test)"
   ]
  },
  {
   "cell_type": "markdown",
   "metadata": {},
   "source": [
    "<b>Task</b>: Evaluate the accuracy of the model using a confusion matrix. In the cell below, create a confusion matrix out of `y_test` and `class_label_predictions_default`.\n",
    "\n",
    "First, create the confusion matrix, then create a Pandas DataFrame out of the confusion matrix for display purposes.\n",
    "Recall that we are predicting whether the host is a 'superhost' or not. Label the confusion matrix accordingly."
   ]
  },
  {
   "cell_type": "code",
   "execution_count": 24,
   "metadata": {},
   "outputs": [
    {
     "data": {
      "text/html": [
       "<div>\n",
       "<style scoped>\n",
       "    .dataframe tbody tr th:only-of-type {\n",
       "        vertical-align: middle;\n",
       "    }\n",
       "\n",
       "    .dataframe tbody tr th {\n",
       "        vertical-align: top;\n",
       "    }\n",
       "\n",
       "    .dataframe thead th {\n",
       "        text-align: right;\n",
       "    }\n",
       "</style>\n",
       "<table border=\"1\" class=\"dataframe\">\n",
       "  <thead>\n",
       "    <tr style=\"text-align: right;\">\n",
       "      <th></th>\n",
       "      <th>Pred: Is Superhost</th>\n",
       "      <th>Pred: Not Superhost</th>\n",
       "    </tr>\n",
       "  </thead>\n",
       "  <tbody>\n",
       "    <tr>\n",
       "      <th>Actual: Is Superhost</th>\n",
       "      <td>265</td>\n",
       "      <td>450</td>\n",
       "    </tr>\n",
       "    <tr>\n",
       "      <th>Actual: Not Superhost</th>\n",
       "      <td>91</td>\n",
       "      <td>1997</td>\n",
       "    </tr>\n",
       "  </tbody>\n",
       "</table>\n",
       "</div>"
      ],
      "text/plain": [
       "                       Pred: Is Superhost  Pred: Not Superhost\n",
       "Actual: Is Superhost                  265                  450\n",
       "Actual: Not Superhost                  91                 1997"
      ]
     },
     "execution_count": 24,
     "metadata": {},
     "output_type": "execute_result"
    }
   ],
   "source": [
    "# YOUR CODE HERE\n",
    "c_m_default = confusion_matrix(y_test, class_label_predictions_default, labels=[True, False])\n",
    "matrix = pd.DataFrame(c_m_default, columns=['Pred: Is Superhost', 'Pred: Not Superhost'], index=['Actual: Is Superhost', 'Actual: Not Superhost'])\n",
    "\n",
    "matrix"
   ]
  },
  {
   "cell_type": "markdown",
   "metadata": {},
   "source": [
    "## Part 4: Perform Logistic Regression Model Selection Using `GridSearchSV`\n",
    "\n",
    "Our goal is to find the optimal choice of hyperparameter $C$. "
   ]
  },
  {
   "cell_type": "markdown",
   "metadata": {},
   "source": [
    "### Set Up a Parameter Grid \n",
    "\n",
    "The code cell below creates a dictionary called `param_grid` with:\n",
    "* a key called 'C' \n",
    "* a value which is a list consisting of 10 values for the hyperparameter $C$\n",
    "\n",
    "It uses a scikit-learn function `11_min_c()` to assist in the creation of possible values for $C$. For more information, consult the online [documentation](https://scikit-learn.org/stable/modules/generated/sklearn.svm.l1_min_c.html)."
   ]
  },
  {
   "cell_type": "code",
   "execution_count": 25,
   "metadata": {},
   "outputs": [
    {
     "data": {
      "text/plain": [
       "{'C': [0.0001537633581917429,\n",
       "  0.0004503182232067712,\n",
       "  0.0013188220167462046,\n",
       "  0.0038623609310518637,\n",
       "  0.011311482347345912,\n",
       "  0.03312731129440893,\n",
       "  0.09701812016301883,\n",
       "  0.28413159028558327,\n",
       "  0.8321204375281983,\n",
       "  2.436984996480532,\n",
       "  7.137062864015964,\n",
       "  20.901920364088983,\n",
       "  61.214295464518635,\n",
       "  179.2749136895258,\n",
       "  525.0325015504883,\n",
       "  1537.633581917429]}"
      ]
     },
     "execution_count": 25,
     "metadata": {},
     "output_type": "execute_result"
    }
   ],
   "source": [
    "from sklearn.svm import l1_min_c\n",
    "\n",
    "cs = l1_min_c(X_train, y_train, loss=\"log\") * np.logspace(0, 7, 16)\n",
    "param_grid = dict(C = list(cs))\n",
    "param_grid"
   ]
  },
  {
   "cell_type": "markdown",
   "metadata": {},
   "source": [
    "### Perform Grid Search Cross-Validation"
   ]
  },
  {
   "cell_type": "markdown",
   "metadata": {},
   "source": [
    "<b>Task:</b> Use `GridSearchCV` to search over the different values of hyperparameter $C$ to find the one that results in the best cross-validation (CV) score.\n",
    "\n",
    "Complete the code in the cell below."
   ]
  },
  {
   "cell_type": "code",
   "execution_count": 26,
   "metadata": {},
   "outputs": [
    {
     "name": "stdout",
     "output_type": "stream",
     "text": [
      "Running Grid Search...\n",
      "Done\n"
     ]
    }
   ],
   "source": [
    "print('Running Grid Search...')\n",
    "\n",
    "# 1. Create a LogisticRegression model object with the argument max_iter=1000. \n",
    "#    Save the model object to the variable 'model'\n",
    "# YOUR CODE HERE\n",
    "model = LogisticRegression(max_iter=1000)\n",
    "\n",
    "# 2. Run a grid search with 5-fold cross-validation and assign the output to the \n",
    "# object 'grid'.\n",
    "# YOUR CODE HERE\n",
    "grid = GridSearchCV(model, param_grid, cv=5)\n",
    "\n",
    "# 3. Fit the model on the training data and assign the fitted model to the \n",
    "#    variable 'grid_search'\n",
    "# YOUR CODE HERE\n",
    "grid_search = grid.fit(X_train, y_train)\n",
    "\n",
    "print('Done')"
   ]
  },
  {
   "cell_type": "markdown",
   "metadata": {},
   "source": [
    "<b>Task</b>: Retrieve the value of the hyperparameter $C$ for which the best score was attained. Save the result to the variable `best_c`."
   ]
  },
  {
   "cell_type": "code",
   "execution_count": 30,
   "metadata": {},
   "outputs": [],
   "source": [
    "# YOUR CODE HERE\n",
    "best_c = grid_search.best_params_['C']"
   ]
  },
  {
   "cell_type": "markdown",
   "metadata": {},
   "source": [
    "## Part 5: Fit and Evaluate the Optimal Logistic Regression Model "
   ]
  },
  {
   "cell_type": "markdown",
   "metadata": {},
   "source": [
    "<b>Task</b>: Initialize a `LogisticRegression` model object with the best value of hyperparameter `C` model and fit the model to the training data. The model object should be named `model_best`. Note: Supply `max_iter=1000` as an argument when creating the model object."
   ]
  },
  {
   "cell_type": "code",
   "execution_count": 31,
   "metadata": {},
   "outputs": [
    {
     "data": {
      "text/plain": [
       "LogisticRegression(C=525.0325015504883, class_weight=None, dual=False,\n",
       "                   fit_intercept=True, intercept_scaling=1, l1_ratio=None,\n",
       "                   max_iter=1000, multi_class='auto', n_jobs=None, penalty='l2',\n",
       "                   random_state=None, solver='lbfgs', tol=0.0001, verbose=0,\n",
       "                   warm_start=False)"
      ]
     },
     "execution_count": 31,
     "metadata": {},
     "output_type": "execute_result"
    }
   ],
   "source": [
    "# 1. Create the  model object below and assign to variable 'model_best'\n",
    "# YOUR CODE HERE\n",
    "model_best = LogisticRegression(max_iter=1000, C=best_c)\n",
    "\n",
    "# 2. Fit the model to the training data below\n",
    "# YOUR CODE HERE\n",
    "model_best.fit(X_train, y_train)"
   ]
  },
  {
   "cell_type": "markdown",
   "metadata": {},
   "source": [
    "<b>Task:</b> Test your model on the test set (`X_test`).\n",
    "\n",
    "1. Use the ``predict_proba()`` method  to use the fitted model `model_best` to predict class probabilities for the test set. Save the values of the *second* column to a list called ``proba_predictions_best``.\n",
    "\n",
    "2. Use the ```predict()``` method to use the fitted model `model_best` to predict the class labels for the test set. Store the outcome in the variable ```class_label_predictions_best```. "
   ]
  },
  {
   "cell_type": "code",
   "execution_count": 32,
   "metadata": {},
   "outputs": [],
   "source": [
    "# 1. Make predictions on the test data using the predict_proba() method\n",
    "# YOUR CODE HERE\n",
    "proba_predictions_best = model_best.predict_proba(X_test)[:,1]\n",
    "\n",
    "# 2. Make predictions on the test data using the predict() method\n",
    "# YOUR CODE HERE\n",
    "class_label_predictions_best = model_best.predict(X_test)"
   ]
  },
  {
   "cell_type": "markdown",
   "metadata": {},
   "source": [
    "<b>Task</b>: Evaluate the accuracy of the model using a confusion matrix. In the cell below, create a confusion matrix out of `y_test` and `class_label_predictions_best`."
   ]
  },
  {
   "cell_type": "code",
   "execution_count": 33,
   "metadata": {},
   "outputs": [],
   "source": [
    "# YOUR CODE HERE\n",
    "matrix_temp = confusion_matrix(y_test, class_label_predictions_best, labels=[True, False])\n",
    "matrix_best = pd.DataFrame(matrix_temp, columns=['Pred: Is Superhost', 'Pred: Not Superhost'], index=['Actual: Is Superhost', 'Actual: Not Superhost'])\n"
   ]
  },
  {
   "cell_type": "markdown",
   "metadata": {},
   "source": [
    "## Part 6:  Plot Precision-Recall Curves for Both Models"
   ]
  },
  {
   "cell_type": "markdown",
   "metadata": {},
   "source": [
    "<b>Task:</b> In the code cell below, use `precision_recall_curve()` to compute precision-recall pairs for both models.\n",
    "\n",
    "For `model_default`:\n",
    "* call `precision_recall_curve()` with `y_test` and `proba_predictions_default`\n",
    "* save the output to the variables `precision_default`, `recall_default` and `thresholds_default`, respectively\n",
    "\n",
    "For `model_best`:\n",
    "* call `precision_recall_curve()` with `y_test` and `proba_predictions_best`\n",
    "* save the output to the variables `precision_best`, `recall_best` and `thresholds_best`, respectively\n"
   ]
  },
  {
   "cell_type": "code",
   "execution_count": 34,
   "metadata": {},
   "outputs": [],
   "source": [
    "# YOUR CODE HERE\n",
    "precision_default, recall_default, thresholds_default = precision_recall_curve(y_test, proba_predictions_default)\n",
    "precision_best, recall_best, thresholds_best = precision_recall_curve(y_test, proba_predictions_best)\n"
   ]
  },
  {
   "cell_type": "markdown",
   "metadata": {},
   "source": [
    "In the code cell below, create two `seaborn` lineplots to visualize the precision-recall curve for both models. \"Recall\" will be on the $x$-axis and \"Precision\" will be on the $y$-axis. \n",
    "\n",
    "The plot for \"default\" should be green. The plot for the \"best\" should be red.\n"
   ]
  },
  {
   "cell_type": "code",
   "execution_count": 36,
   "metadata": {},
   "outputs": [
    {
     "data": {
      "image/png": "[encoded data removed]",
      "text/plain": [
       "<Figure size 432x288 with 1 Axes>"
      ]
     },
     "metadata": {
      "needs_background": "light"
     },
     "output_type": "display_data"
    }
   ],
   "source": [
    "# YOUR CODE HERE\n",
    "sns.lineplot(x=recall_default, y=precision_default, color='green', label='Default')\n",
    "sns.lineplot(x=recall_best, y=precision_best, color='red', label='Best')\n",
    "plt.xlabel(\"Recall\")\n",
    "plt.ylabel(\"Precision\")\n",
    "plt.title(\"Precision Recall Curve\")\n",
    "plt.show()"
   ]
  },
  {
   "cell_type": "markdown",
   "metadata": {},
   "source": [
    "## Part 7: Plot ROC Curves and Compute the AUC for Both Models"
   ]
  },
  {
   "cell_type": "markdown",
   "metadata": {},
   "source": [
    "You will next use scikit-learn's `roc_curve()` function to plot the receiver operating characteristic (ROC) curve and the `auc()` function to compute the area under the curve (AUC) for both models.\n",
    "\n",
    "* An ROC curve plots the performance of a binary classifier for varying classification thresholds. It plots the fraction of true positives out of the positives vs. the fraction of false positives out of the negatives. For more information on how to use the `roc_curve()` function, consult the [scikit-learn documentation](https://scikit-learn.org/stable/modules/generated/sklearn.metrics.roc_curve.html).\n",
    "\n",
    "* The AUC measures the trade-off between the true positive rate and false positive rate. It provides a broad view of the performance of a classifier since it evaluates the performance for all the possible threshold values; it essentially provides a value that summarizes the the ROC curve. For more information on how to use the `auc()` function, consult the [scikit-learn documentation](https://scikit-learn.org/stable/modules/generated/sklearn.metrics.auc.html).\n",
    "\n",
    "Let's first import the functions."
   ]
  },
  {
   "cell_type": "code",
   "execution_count": 37,
   "metadata": {},
   "outputs": [],
   "source": [
    "from sklearn.metrics import roc_curve\n",
    "from sklearn.metrics import auc"
   ]
  },
  {
   "cell_type": "markdown",
   "metadata": {},
   "source": [
    "<b>Task:</b> Using the `roc_curve()` function, record the true positive and false positive rates for both models. \n",
    "\n",
    "1. Call `roc_curve()` with arguments `y_test` and `proba_predictions_default`. The `roc_curve` function produces three outputs. Save the three items to the following variables, respectively: `fpr_default` (standing for 'false positive rate'),  `tpr_default` (standing for 'true positive rate'), and `thresholds_default`.\n",
    "\n",
    "2. Call `roc_curve()` with arguments `y_test` and `proba_predictions_best`. The `roc_curve` function produces three outputs. Save the three items to the following variables, respectively: `fpr_best` (standing for 'false positive rate'),  `tpr_best` (standing for 'true positive rate'), and `thresholds_best`."
   ]
  },
  {
   "cell_type": "code",
   "execution_count": 38,
   "metadata": {},
   "outputs": [],
   "source": [
    "fpr_default, tpr_default, thresholds_default = roc_curve(y_test, proba_predictions_default)# YOUR CODE HERE\n",
    "fpr_best, tpr_best, thresholds_best = roc_curve(y_test, proba_predictions_best)# YOUR CODE HERE"
   ]
  },
  {
   "cell_type": "markdown",
   "metadata": {},
   "source": [
    "<b>Task</b>: Create <b>two</b> `seaborn` lineplots to visualize the ROC curve for both models. \n",
    "\n",
    "The plot for the default hyperparameter should be green. The plot for the best hyperparameter should be red.\n",
    "\n",
    "* In each plot, the `fpr` values should be on the $x$-axis.\n",
    "* In each plot, the`tpr` values should be on the $y$-axis. \n",
    "* In each plot, label the $x$-axis \"False positive rate\".\n",
    "* In each plot, label the $y$-axis \"True positive rate\".\n",
    "* Give each plot the title \"Receiver operating characteristic (ROC) curve\".\n",
    "* Create a legend on each plot indicating that the plot represents either the default hyperparameter value or the best hyperparameter value.\n",
    "\n",
    "<b>Note:</b> It may take a few minutes to produce each plot."
   ]
  },
  {
   "cell_type": "markdown",
   "metadata": {},
   "source": [
    "#### Plot ROC Curve for Default Hyperparameter:"
   ]
  },
  {
   "cell_type": "code",
   "execution_count": 39,
   "metadata": {},
   "outputs": [
    {
     "data": {
      "image/png": "[encoded data removed]",
      "text/plain": [
       "<Figure size 432x288 with 1 Axes>"
      ]
     },
     "metadata": {
      "needs_background": "light"
     },
     "output_type": "display_data"
    }
   ],
   "source": [
    "# YOUR CODE HERE\n",
    "sns.lineplot(x=fpr_default, y=tpr_default, color='green', label='Default Hyperparameter')\n",
    "plt.xlabel(\"False positive rate\")\n",
    "plt.ylabel(\"True positive rate\")\n",
    "plt.title(\"Receiver operating characteristic (ROC) curve\")\n",
    "plt.legend()\n",
    "plt.show()"
   ]
  },
  {
   "cell_type": "markdown",
   "metadata": {},
   "source": [
    "#### Plot ROC Curve for Best Hyperparameter:"
   ]
  },
  {
   "cell_type": "code",
   "execution_count": 40,
   "metadata": {},
   "outputs": [
    {
     "data": {
      "image/png": "[encoded data removed]",
      "text/plain": [
       "<Figure size 432x288 with 1 Axes>"
      ]
     },
     "metadata": {
      "needs_background": "light"
     },
     "output_type": "display_data"
    }
   ],
   "source": [
    "# YOUR CODE HERE\n",
    "sns.lineplot(x=fpr_best, y=tpr_best, color='red', label='Best Hyperparameter')\n",
    "plt.xlabel(\"False positive rate\")\n",
    "plt.ylabel(\"True positive rate\")\n",
    "plt.title(\"Receiver operating characteristic (ROC) curve\")\n",
    "plt.legend()\n",
    "plt.show()"
   ]
  },
  {
   "cell_type": "markdown",
   "metadata": {},
   "source": [
    "<b>Task</b>: Use the `auc()` function to compute the area under the receiver operating characteristic (ROC) curve for both models.\n",
    "\n",
    "For each model, call the function with the `fpr` argument first and the `tpr` argument second. \n",
    "\n",
    "Save the result of the `auc()` function for `model_default` to the variable `auc_default`.\n",
    "Save the result of the `auc()` function for `model_best` to the variable `auc_best`. \n",
    "Compare the results."
   ]
  },
  {
   "cell_type": "code",
   "execution_count": 41,
   "metadata": {},
   "outputs": [
    {
     "name": "stdout",
     "output_type": "stream",
     "text": [
      "0.8227761701899632\n",
      "0.8242651984031294\n"
     ]
    }
   ],
   "source": [
    "# YOUR CODE HERE\n",
    "auc_default = auc(fpr_default, tpr_default)\n",
    "auc_best = auc(fpr_best, tpr_best)\n",
    "\n",
    "print(auc_default)\n",
    "print(auc_best)"
   ]
  },
  {
   "cell_type": "markdown",
   "metadata": {},
   "source": [
    "## Deep Dive: Feature Selection Using SelectKBest"
   ]
  },
  {
   "cell_type": "markdown",
   "metadata": {},
   "source": [
    "In the code cell below, you will see how to use scikit-learn's `SelectKBest` class to obtain the best features in a given data set using a specified scoring function. For more information on how to use `SelectKBest`, consult the online [documentation](https://scikit-learn.org/stable/modules/generated/sklearn.feature_selection.SelectKBest.html).\n",
    "\n",
    "We will extract the best 5 features from the Airbnb \"listings\" data set to create new training data, then fit our model with the optimal hyperparameter $C$ to the data and compute the AUC. Walk through the code to see how it works and complete the steps where prompted. Analyze the results."
   ]
  },
  {
   "cell_type": "code",
   "execution_count": 50,
   "metadata": {},
   "outputs": [
    {
     "name": "stdout",
     "output_type": "stream",
     "text": [
      "0.7971549044824906\n"
     ]
    }
   ],
   "source": [
    "from sklearn.feature_selection import SelectKBest\n",
    "from sklearn.feature_selection import f_classif\n",
    "\n",
    "# Note that k=5 is specifying that we want the top 5 features\n",
    "selector = SelectKBest(f_classif, k=5)\n",
    "selector.fit(X, y)\n",
    "filter = selector.get_support()\n",
    "top_5_features = X.columns[filter]\n",
    "\n",
    "print(\"Best 5 features:\")\n",
    "print(top_5_features)\n",
    "\n",
    "# Create new training and test data for features\n",
    "new_X_train = X_train[top_5_features]\n",
    "new_X_test = X_test[top_5_features]\n",
    "\n",
    "\n",
    "# Initialize a LogisticRegression model object with the best value of hyperparameter C \n",
    "# The model object should be named 'model'\n",
    "# Note: Supply max_iter=1000 as an argument when creating the model object\n",
    "# YOUR CODE HERE\n",
    "model = LogisticRegression(max_iter=1000, C=best_c)\n",
    "\n",
    "# Fit the model to the new training data\n",
    "# YOUR CODE HERE\n",
    "model.fit(new_X_train, y_train)\n",
    "\n",
    "# Use the predict_proba() method to use your model to make predictions on the new test data \n",
    "# Save the values of the second column to a list called 'proba_predictions'\n",
    "# YOUR CODE HERE\n",
    "proba_predictions = model.predict_proba(new_X_test)[:, 1]\n",
    "    \n",
    "# Compute the auc-roc\n",
    "fpr, tpr, thresholds = roc_curve(y_test, proba_predictions)\n",
    "auc_result = auc(fpr, tpr)\n",
    "print(auc_result)"
   ]
  },
  {
   "cell_type": "markdown",
   "metadata": {},
   "source": [
    "<b>Task</b>: Consider the results. Change the specified number of features and re-run your code. Does this change the AUC value? What number of features results in the best AUC value? Record your findings in the cell below."
   ]
  },
  {
   "cell_type": "markdown",
   "metadata": {},
   "source": [
    "When I test the `num_feature_list = [2,4,6,8,12]`, the AUC value is increasing as long as the number of features is bigger. The output is:\n",
    "\n",
    "Number of features: 2\n",
    "AUC-ROC score: 0.7693704284221525\n",
    "\n",
    "Number of features: 4\n",
    "AUC-ROC score: 0.7742678777161536\n",
    "\n",
    "Number of features: 6\n",
    "AUC-ROC score: 0.8108384910109048\n",
    "\n",
    "Number of features: 8\n",
    "AUC-ROC score: 0.8116479784583233\n",
    "\n",
    "Number of features: 12\n",
    "AUC-ROC score: 0.8130388768319803\n",
    "\n",
    "Best number of features: 12\n",
    "\n"
   ]
  },
  {
   "cell_type": "code",
   "execution_count": null,
   "metadata": {},
   "outputs": [],
   "source": []
  }
 ],
 "metadata": {
  "kernelspec": {
   "display_name": "Python 3",
   "language": "python",
   "name": "python3"
  },
  "language_info": {
   "codemirror_mode": {
    "name": "ipython",
    "version": 3
   },
   "file_extension": ".py",
   "mimetype": "text/x-python",
   "name": "python",
   "nbconvert_exporter": "python",
   "pygments_lexer": "ipython3",
   "version": "3.6.9"
  },
  "toc": {
   "base_numbering": 1,
   "nav_menu": {},
   "number_sections": false,
   "sideBar": true,
   "skip_h1_title": false,
   "title_cell": "Table of Contents",
   "title_sidebar": "Contents",
   "toc_cell": false,
   "toc_position": {},
   "toc_section_display": true,
   "toc_window_display": false
  },
  "varInspector": {
   "cols": {
    "lenName": 16,
    "lenType": 16,
    "lenVar": 40
   },
   "kernels_config": {
    "python": {
     "delete_cmd_postfix": "",
     "delete_cmd_prefix": "del ",
     "library": "var_list.py",
     "varRefreshCmd": "print(var_dic_list())"
    },
    "r": {
     "delete_cmd_postfix": ") ",
     "delete_cmd_prefix": "rm(",
     "library": "var_list.r",
     "varRefreshCmd": "cat(var_dic_list()) "
    }
   },
   "types_to_exclude": [
    "module",
    "function",
    "builtin_function_or_method",
    "instance",
    "_Feature"
   ],
   "window_display": false
  }
 },
 "nbformat": 4,
 "nbformat_minor": 2
}
